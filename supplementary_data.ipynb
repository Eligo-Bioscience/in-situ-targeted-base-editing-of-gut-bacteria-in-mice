{
 "cells": [
  {
   "cell_type": "code",
   "execution_count": 1,
   "metadata": {},
   "outputs": [],
   "source": [
    "# extra requirement: openpyxl\n",
    "import pandas as pd"
   ]
  },
  {
   "cell_type": "code",
   "execution_count": 2,
   "metadata": {},
   "outputs": [],
   "source": [
    "tax_rank2sheet_name = {\n",
    "    'k': 'SD3_16S-kingdom',\n",
    "    'p': 'SD4_16S-phylum',\n",
    "    'c': 'SD5_16S-class',\n",
    "    'o': 'SD6_16S-order',\n",
    "    'f': 'SD7_16S-family',\n",
    "    'g': 'SD8_16S-genus',\n",
    "    's': 'SD9_16S-species'\n",
    "}"
   ]
  },
  {
   "cell_type": "code",
   "execution_count": 3,
   "metadata": {},
   "outputs": [
    {
     "name": "stderr",
     "output_type": "stream",
     "text": [
      "/var/folders/hr/qsgqk_m16k32_rs84xvksgd40000gp/T/ipykernel_11659/1618459082.py:18: FutureWarning: save is not part of the public API, usage can give unexpected results and will be removed in a future version\n",
      "  writer.save()\n"
     ]
    }
   ],
   "source": [
    "dfs = []\n",
    "\n",
    "# load the offtargets metadata tables\n",
    "dfs.append(('SD1_MG1655-offtargets', pd.read_csv('data/offtargeting/ref/MG1655_offtargets_table.csv')))\n",
    "dfs.append(('SD2_TN03-offtargets', pd.read_csv('data/offtargeting/ref/TN03_offtargets_table.csv')))\n",
    "\n",
    "# load the 16S compositions at each taxonomic rank\n",
    "for tax_rank in ['k', 'p', 'c', 'o', 'f', 'g', 's']:\n",
    "    df = pd.read_csv(f'data/16S/composition/featureTable.sample.{tax_rank}.relative.tsv', delimiter='\\t')\n",
    "    dfs.append((tax_rank2sheet_name[tax_rank], df))\n",
    "\n",
    "# export all the dfs in a single excel file, one df per sheet\n",
    "writer = pd.ExcelWriter('supplementary_data.xlsx')\n",
    "for sheet_name, df in dfs:\n",
    "    df.to_excel(writer, sheet_name=sheet_name, index=False)\n",
    "\n",
    "# Save the Excel file\n",
    "writer.save()"
   ]
  }
 ],
 "metadata": {
  "kernelspec": {
   "display_name": "base-editing-paper",
   "language": "python",
   "name": "python3"
  },
  "language_info": {
   "codemirror_mode": {
    "name": "ipython",
    "version": 3
   },
   "file_extension": ".py",
   "mimetype": "text/x-python",
   "name": "python",
   "nbconvert_exporter": "python",
   "pygments_lexer": "ipython3",
   "version": "3.10.8"
  }
 },
 "nbformat": 4,
 "nbformat_minor": 2
}
